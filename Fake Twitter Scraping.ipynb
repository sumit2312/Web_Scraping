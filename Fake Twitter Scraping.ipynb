{
 "cells": [
  {
   "cell_type": "code",
   "execution_count": 11,
   "metadata": {},
   "outputs": [],
   "source": [
    "from bs4 import BeautifulSoup\n",
    "import requests\n",
    "import pandas as pd\n",
    "import json"
   ]
  },
  {
   "cell_type": "code",
   "execution_count": 12,
   "metadata": {},
   "outputs": [],
   "source": [
    "url = \"http://ethans_fake_twitter_site.surge.sh/\""
   ]
  },
  {
   "cell_type": "code",
   "execution_count": 13,
   "metadata": {},
   "outputs": [],
   "source": [
    "response = requests.get(url)\n",
    "data = response.text\n",
    "content = BeautifulSoup(data,'html.parser')"
   ]
  },
  {
   "cell_type": "code",
   "execution_count": 14,
   "metadata": {},
   "outputs": [
    {
     "name": "stdout",
     "output_type": "stream",
     "text": [
      "<Response [200]>\n"
     ]
    }
   ],
   "source": [
    "print(response)"
   ]
  },
  {
   "cell_type": "code",
   "execution_count": 15,
   "metadata": {},
   "outputs": [],
   "source": [
    "tweetarr = []\n",
    "tweets = content.find_all('div',{'class':'tweetcontainer'})"
   ]
  },
  {
   "cell_type": "code",
   "execution_count": 16,
   "metadata": {},
   "outputs": [],
   "source": [
    "for tweet in tweets:\n",
    "    tweetObject = {\n",
    "        'author': tweet.find('h2',{'class':'author'}).text.encode('utf-8'),\n",
    "        'date': tweet.find('h5', {'class': 'dateTime'}).text.encode('utf-8'),\n",
    "        \"tweet\": tweet.find('p', {'class': 'content'}).text.encode('utf-8'),\n",
    "        \"likes\": tweet.find('p', {'class': 'likes'}).text.encode('utf-8'),\n",
    "        \"shares\": tweet.find('p', {'class': 'shares'}).text.encode('utf-8')\n",
    "    }\n",
    "    tweetarr.append(tweetObject)"
   ]
  },
  {
   "cell_type": "code",
   "execution_count": 23,
   "metadata": {},
   "outputs": [
    {
     "name": "stdout",
     "output_type": "stream",
     "text": [
      "{'author': b'jimmyfallon', 'date': b'17/01/2017 12:55', 'tweet': b'.@michaelstrahan and @BryceDHoward take on @questlove and I in an intense game of Pyramid https://t.co/dWm11VmAKj #FallonTonight', 'likes': b'Likes  402', 'shares': b'Shares  60'}\n",
      "{'author': b'jimmyfallon', 'date': b'16/01/2017 14:10', 'tweet': b'Tonight on the show: @michaelstrahan and Bryce Dallas Howard are here, plus @BebeRexha performs! #FallonTonight', 'likes': b'Likes  1886', 'shares': b'Shares  304'}\n"
     ]
    }
   ],
   "source": [
    "print(tweetarr[1])\n",
    "print(tweetarr[2])"
   ]
  },
  {
   "cell_type": "code",
   "execution_count": null,
   "metadata": {},
   "outputs": [],
   "source": []
  }
 ],
 "metadata": {
  "kernelspec": {
   "display_name": "Python 3",
   "language": "python",
   "name": "python3"
  },
  "language_info": {
   "codemirror_mode": {
    "name": "ipython",
    "version": 3
   },
   "file_extension": ".py",
   "mimetype": "text/x-python",
   "name": "python",
   "nbconvert_exporter": "python",
   "pygments_lexer": "ipython3",
   "version": "3.7.0"
  }
 },
 "nbformat": 4,
 "nbformat_minor": 2
}
