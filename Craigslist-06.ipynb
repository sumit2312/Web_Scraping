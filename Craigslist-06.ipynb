{
 "cells": [
  {
   "cell_type": "code",
   "execution_count": 2,
   "metadata": {},
   "outputs": [],
   "source": [
    "from bs4 import BeautifulSoup\n",
    "import requests"
   ]
  },
  {
   "cell_type": "code",
   "execution_count": 3,
   "metadata": {},
   "outputs": [],
   "source": [
    "url = \"https://boston.craigslist.org/search/npo\""
   ]
  },
  {
   "cell_type": "code",
   "execution_count": null,
   "metadata": {},
   "outputs": [],
   "source": [
    "job_no = 0\n",
    "while True:\n",
    "    \n",
    "    response = requests.get(url)\n",
    "    data = response.text\n",
    "    soup = BeautifulSoup(data,'html.parser')\n",
    "    jobs = soup.find_all('p',{'class':'result-info'})\n",
    "    \n",
    "    for job in jobs:\n",
    "        title = job.find('a',{'class':'result-title'}).text\n",
    "        location_tag = job.find('span',{'class':'result-hood'})\n",
    "        location = location_tag.text[2:-1] if location_tag else \"N/A\"\n",
    "        date = job.find('time', {'class': 'result-date'}).text\n",
    "        link = job.find('a', {'class': 'result-title'}).get('href')\n",
    "        job_response = requests.get(link)\n",
    "        job_data = job_response.text\n",
    "        job_soup = BeautifulSoup(job_data, 'html.parser')\n",
    "        job_description = job_soup.find('section',{'id':'postingbody'}).text\n",
    "        job_attributes_tag = job_soup.find('p',{'class':'attrgroup'})\n",
    "        job_attributes = job_attributes_tag.text if job_attributes_tag else \"N/A\"\n",
    "        job_no+=1\n",
    "#         print('Job Title:', title, '\\nLocation:', location, '\\nDate:', date, '\\nLink:', link,\"\\n\", job_attributes, '\\nJob Description:', job_description,'\\n---')\n",
    "    url_tag = soup.find('a',{'title':'next page'})\n",
    "    if url_tag.get('href'):\n",
    "        url= 'https://boston.craigslist.org' + url_tag.get('href')\n",
    "#         print(url)\n",
    "    else:\n",
    "        break\n",
    "        \n",
    "print(\"Total Jobs:\", job_no)"
   ]
  }
 ],
 "metadata": {
  "kernelspec": {
   "display_name": "Python 3",
   "language": "python",
   "name": "python3"
  },
  "language_info": {
   "codemirror_mode": {
    "name": "ipython",
    "version": 3
   },
   "file_extension": ".py",
   "mimetype": "text/x-python",
   "name": "python",
   "nbconvert_exporter": "python",
   "pygments_lexer": "ipython3",
   "version": "3.7.0"
  }
 },
 "nbformat": 4,
 "nbformat_minor": 2
}
